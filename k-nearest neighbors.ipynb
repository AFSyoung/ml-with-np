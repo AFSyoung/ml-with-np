{
 "cells": [
  {
   "cell_type": "code",
   "execution_count": 1,
   "metadata": {},
   "outputs": [],
   "source": [
    "%load_ext autoreload\n",
    "%autoreload 2\n",
    "%matplotlib inline"
   ]
  },
  {
   "cell_type": "code",
   "execution_count": 209,
   "metadata": {},
   "outputs": [],
   "source": [
    "import numpy as np\n",
    "import matplotlib.pyplot as plt\n",
    "import sklearn.datasets\n",
    "from knn import KNN\n",
    "from scipy.stats import mode"
   ]
  },
  {
   "cell_type": "code",
   "execution_count": 4,
   "metadata": {},
   "outputs": [],
   "source": [
    "mnist = sklearn.datasets.load_digits()"
   ]
  },
  {
   "cell_type": "code",
   "execution_count": 338,
   "metadata": {},
   "outputs": [],
   "source": [
    "X = mnist['data']\n",
    "y = mnist['target']"
   ]
  },
  {
   "cell_type": "code",
   "execution_count": 339,
   "metadata": {},
   "outputs": [
    {
     "data": {
      "text/plain": [
       "((1797, 64), (1797,))"
      ]
     },
     "execution_count": 339,
     "metadata": {},
     "output_type": "execute_result"
    }
   ],
   "source": [
    "X.shape, y.shape"
   ]
  },
  {
   "cell_type": "code",
   "execution_count": 361,
   "metadata": {},
   "outputs": [],
   "source": [
    "# subset 1000 as train, 200 as valid\n",
    "rnd_idx = np.random.permutation(X.shape[0])\n",
    "trn_idx = rnd_idx[:1000]\n",
    "val_idx = rnd_idx[1000:1200]"
   ]
  },
  {
   "cell_type": "code",
   "execution_count": 374,
   "metadata": {
    "scrolled": true
   },
   "outputs": [
    {
     "name": "stdout",
     "output_type": "stream",
     "text": [
      "train shape (1000, 64)\n",
      "valid shape (200, 64)\n"
     ]
    }
   ],
   "source": [
    "X_trn, y_trn = X[trn_idx], y[trn_idx]\n",
    "X_val, y_val = X[val_idx], y[val_idx]\n",
    "print(f'train shape {X_trn.shape}')\n",
    "print(f'valid shape {X_val.shape}')"
   ]
  },
  {
   "cell_type": "markdown",
   "metadata": {},
   "source": [
    "Build and train knn model"
   ]
  },
  {
   "cell_type": "code",
   "execution_count": 518,
   "metadata": {},
   "outputs": [
    {
     "name": "stdout",
     "output_type": "stream",
     "text": [
      "k=1 accuracy 0.985\n",
      "k=3 accuracy 0.98\n"
     ]
    }
   ],
   "source": [
    "knn = KNN()\n",
    "knn.fit(X_trn, y_trn)\n",
    "y_pred = knn.predict(X_val, k=1)\n",
    "print(f'k=1 accuracy {np.sum(y_pred==y_val)/y_pred.shape[0]}')\n",
    "y_pred = knn.predict(X_val, k=5)\n",
    "print(f'k=3 accuracy {np.sum(y_pred==y_val)/y_pred.shape[0]}')"
   ]
  },
  {
   "cell_type": "code",
   "execution_count": 511,
   "metadata": {},
   "outputs": [
    {
     "name": "stdout",
     "output_type": "stream",
     "text": [
      "pred \n",
      " [[0 3 1 0 6]\n",
      " [9 2 4 7 1]\n",
      " [8 4 2 7 2]\n",
      " [8 8 3 8 1]\n",
      " [0 5 3 5 4]]\n",
      "actual \n",
      " [[0 3 1 0 6]\n",
      " [9 2 4 7 1]\n",
      " [8 4 2 7 2]\n",
      " [8 8 3 8 1]\n",
      " [0 5 3 5 4]]\n"
     ]
    },
    {
     "data": {
      "image/png": "[encoded data removed]",
      "text/plain": [
       "<Figure size 432x288 with 25 Axes>"
      ]
     },
     "metadata": {},
     "output_type": "display_data"
    }
   ],
   "source": [
    "fig, axes = plt.subplots(5, 5)\n",
    "for i, ax in enumerate(axes.flat):\n",
    "    ax.imshow(X_val[i].reshape(8, 8), cmap='gray')\n",
    "    ax.xaxis.set_visible(False)\n",
    "    ax.yaxis.set_visible(False)\n",
    "print(f\"pred \\n {y_pred[:25].reshape(5, 5)}\")\n",
    "print(f\"actual \\n {y_val[:25].reshape(5, 5)}\")\n"
   ]
  },
  {
   "cell_type": "code",
   "execution_count": 512,
   "metadata": {},
   "outputs": [],
   "source": [
    "wrong_idx = np.where(y_pred!=y_val)"
   ]
  },
  {
   "cell_type": "code",
   "execution_count": 513,
   "metadata": {},
   "outputs": [
    {
     "data": {
      "text/plain": [
       "(array([ 34,  42,  66, 134]),)"
      ]
     },
     "execution_count": 513,
     "metadata": {},
     "output_type": "execute_result"
    }
   ],
   "source": [
    "wrong_idx"
   ]
  },
  {
   "cell_type": "code",
   "execution_count": 546,
   "metadata": {},
   "outputs": [
    {
     "data": {
      "text/plain": [
       "[<matplotlib.lines.Line2D at 0x1a235187b8>]"
      ]
     },
     "execution_count": 546,
     "metadata": {},
     "output_type": "execute_result"
    },
    {
     "data": {
      "image/png": "[encoded data removed]",
      "text/plain": [
       "<Figure size 432x288 with 1 Axes>"
      ]
     },
     "metadata": {},
     "output_type": "display_data"
    }
   ],
   "source": [
    "val_preds = [np.sum(y_val==knn.predict(X_val, k=k)) for k in range(1,30)]\n",
    "plt.plot(np.arange(1,30), val_preds)"
   ]
  },
  {
   "cell_type": "code",
   "execution_count": 533,
   "metadata": {},
   "outputs": [
    {
     "data": {
      "text/plain": [
       "0.9622166246851386"
      ]
     },
     "execution_count": 533,
     "metadata": {},
     "output_type": "execute_result"
    }
   ],
   "source": [
    "np.sum(tst_preds == y[rnd_idx[1400:]])/tst_preds.shape[0]"
   ]
  },
  {
   "cell_type": "code",
   "execution_count": null,
   "metadata": {},
   "outputs": [],
   "source": []
  }
 ],
 "metadata": {
  "kernelspec": {
   "display_name": "Python [conda env:ml-with-np]",
   "language": "python",
   "name": "conda-env-ml-with-np-py"
  },
  "language_info": {
   "codemirror_mode": {
    "name": "ipython",
    "version": 3
   },
   "file_extension": ".py",
   "mimetype": "text/x-python",
   "name": "python",
   "nbconvert_exporter": "python",
   "pygments_lexer": "ipython3",
   "version": "3.7.0"
  }
 },
 "nbformat": 4,
 "nbformat_minor": 2
}
