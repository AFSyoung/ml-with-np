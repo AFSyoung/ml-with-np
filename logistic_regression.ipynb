{
 "cells": [
  {
   "cell_type": "code",
   "execution_count": 33,
   "metadata": {},
   "outputs": [],
   "source": [
    "% load_ext autoreload\n",
    "% autoreload 2\n",
    "% matplotlib inline"
   ]
  },
  {
   "cell_type": "code",
   "execution_count": 34,
   "metadata": {},
   "outputs": [],
   "source": [
    "import numpy as np\n",
    "import matplotlib.pyplot as plt\n",
    "from logistic import LogisticRegression\n",
    "np.random.seed(42)"
   ]
  },
  {
   "cell_type": "code",
   "execution_count": 259,
   "metadata": {},
   "outputs": [],
   "source": [
    "# set constants, note error is normally distributed\n",
    "a = 3\n",
    "b = 2\n",
    "err = np.random.normal(size=(100, 1))\n",
    "\n",
    "# set random variable X\n",
    "X = np.random.rand(100, 1)\n",
    "y = a * X + b + 0.1 * err\n",
    "y = np.where(y>4, 1, 0)"
   ]
  },
  {
   "cell_type": "code",
   "execution_count": 260,
   "metadata": {},
   "outputs": [
    {
     "data": {
      "image/png": "[encoded data removed]",
      "text/plain": [
       "<Figure size 432x288 with 1 Axes>"
      ]
     },
     "metadata": {},
     "output_type": "display_data"
    }
   ],
   "source": [
    "plt.scatter(X, y);"
   ]
  },
  {
   "cell_type": "code",
   "execution_count": 214,
   "metadata": {},
   "outputs": [],
   "source": [
    "n = 80\n",
    "X_trn, y_trn = X[:n], y[:n]\n",
    "X_val, y_val = X[n:], y[n:]"
   ]
  },
  {
   "cell_type": "code",
   "execution_count": 221,
   "metadata": {},
   "outputs": [
    {
     "name": "stdout",
     "output_type": "stream",
     "text": [
      "weight 0.46953802523181626\n",
      "biases 0.07871971162832586\n",
      "0 epochs cross_entropy 0.6898251468296855\n",
      "weight 2.829960623796525\n",
      "biases -1.5287369133252018\n",
      "100 epochs cross_entropy 0.4180432062725107\n",
      "weight 4.259934148674535\n",
      "biases -2.5203674578778092\n",
      "200 epochs cross_entropy 0.31605089613801757\n",
      "weight 5.27883693988654\n",
      "biases -3.2314873246880578\n",
      "300 epochs cross_entropy 0.263925508475313\n",
      "weight 6.075420229979634\n",
      "biases -3.7904965030578306\n",
      "400 epochs cross_entropy 0.23180111625795696\n",
      "weight 6.734412940182404\n",
      "biases -4.254830824563683\n",
      "500 epochs cross_entropy 0.2096658122014526\n",
      "weight 7.3000034834211815\n",
      "biases -4.6545440161457226\n",
      "600 epochs cross_entropy 0.19327483801040723\n",
      "weight 7.797953563795111\n",
      "biases -5.007236712658613\n",
      "700 epochs cross_entropy 0.1805189510018965\n",
      "weight 8.24455594842808\n",
      "biases -5.324090026921878\n",
      "800 epochs cross_entropy 0.17022664948713423\n",
      "weight 8.650764465705079\n",
      "biases -5.612651963886203\n",
      "900 epochs cross_entropy 0.1616918678185396\n"
     ]
    }
   ],
   "source": [
    "mdl = LogisticRegression()\n",
    "mdl.fit(X_trn, y_trn, 0.1, n_epochs=1000)"
   ]
  },
  {
   "cell_type": "code",
   "execution_count": 222,
   "metadata": {},
   "outputs": [],
   "source": [
    "val_preds = mdl.predict(X_val)"
   ]
  },
  {
   "cell_type": "code",
   "execution_count": 268,
   "metadata": {},
   "outputs": [
    {
     "data": {
      "text/plain": [
       "array([0, 0, 0, 0, 1, 0, 0, 0, 1, 0, 1, 0, 0, 0, 1, 0, 1, 0, 0, 1])"
      ]
     },
     "execution_count": 268,
     "metadata": {},
     "output_type": "execute_result"
    }
   ],
   "source": [
    "val_preds.flatten()"
   ]
  },
  {
   "cell_type": "code",
   "execution_count": 270,
   "metadata": {},
   "outputs": [
    {
     "data": {
      "text/plain": [
       "array([0, 0, 0, 0, 1, 0, 0, 0, 1, 0, 1, 0, 0, 0, 1, 0, 1, 0, 0, 1])"
      ]
     },
     "execution_count": 270,
     "metadata": {},
     "output_type": "execute_result"
    }
   ],
   "source": [
    "y_val.flatten()"
   ]
  },
  {
   "cell_type": "code",
   "execution_count": null,
   "metadata": {},
   "outputs": [],
   "source": []
  }
 ],
 "metadata": {
  "kernelspec": {
   "display_name": "Python [conda env:ml-with-np]",
   "language": "python",
   "name": "conda-env-ml-with-np-py"
  },
  "language_info": {
   "codemirror_mode": {
    "name": "ipython",
    "version": 3
   },
   "file_extension": ".py",
   "mimetype": "text/x-python",
   "name": "python",
   "nbconvert_exporter": "python",
   "pygments_lexer": "ipython3",
   "version": "3.7.0"
  }
 },
 "nbformat": 4,
 "nbformat_minor": 2
}
