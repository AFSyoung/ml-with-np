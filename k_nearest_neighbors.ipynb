{
 "cells": [
  {
   "cell_type": "markdown",
   "metadata": {},
   "source": [
    "### k-nearest-neighbor algorithm with Numpy\n",
    "The following knn model is implemented under file `knn.py`. Here, MNIST data is used to validate the model"
   ]
  },
  {
   "cell_type": "code",
   "execution_count": 1,
   "metadata": {},
   "outputs": [],
   "source": [
    "%load_ext autoreload\n",
    "%autoreload 2\n",
    "%matplotlib inline"
   ]
  },
  {
   "cell_type": "code",
   "execution_count": 3,
   "metadata": {},
   "outputs": [],
   "source": [
    "import numpy as np\n",
    "import matplotlib.pyplot as plt\n",
    "import sklearn.datasets\n",
    "from knn import KNN\n",
    "from scipy.stats import mode\n",
    "np.random.seed(42)"
   ]
  },
  {
   "cell_type": "code",
   "execution_count": 4,
   "metadata": {
    "scrolled": true
   },
   "outputs": [
    {
     "name": "stdout",
     "output_type": "stream",
     "text": [
      "X shape (1797, 64)\n",
      "y shape (1797,)\n"
     ]
    }
   ],
   "source": [
    "mnist = sklearn.datasets.load_digits()\n",
    "X = mnist['data']\n",
    "y = mnist['target']\n",
    "print(f'X shape {X.shape}')\n",
    "print(f'y shape {y.shape}')"
   ]
  },
  {
   "cell_type": "markdown",
   "metadata": {},
   "source": [
    "#### Split dataset into train and validation set"
   ]
  },
  {
   "cell_type": "code",
   "execution_count": 5,
   "metadata": {},
   "outputs": [],
   "source": [
    "# subset 1000 as train, 200 as valid\n",
    "rnd_idx = np.random.permutation(X.shape[0])\n",
    "trn_idx = rnd_idx[:1000]\n",
    "val_idx = rnd_idx[1000:1200]"
   ]
  },
  {
   "cell_type": "code",
   "execution_count": 6,
   "metadata": {
    "scrolled": true
   },
   "outputs": [
    {
     "name": "stdout",
     "output_type": "stream",
     "text": [
      "train shape (1000, 64)\n",
      "valid shape (200, 64)\n"
     ]
    }
   ],
   "source": [
    "X_trn, y_trn = X[trn_idx], y[trn_idx]\n",
    "X_val, y_val = X[val_idx], y[val_idx]\n",
    "print(f'train shape {X_trn.shape}')\n",
    "print(f'valid shape {X_val.shape}')"
   ]
  },
  {
   "cell_type": "markdown",
   "metadata": {},
   "source": [
    "Build and train knn model"
   ]
  },
  {
   "cell_type": "code",
   "execution_count": 7,
   "metadata": {
    "scrolled": false
   },
   "outputs": [
    {
     "name": "stdout",
     "output_type": "stream",
     "text": [
      "k=1 accuracy 0.975\n",
      "k=10 accuracy 0.97\n"
     ]
    }
   ],
   "source": [
    "knn = KNN()\n",
    "knn.fit(X_trn, y_trn)\n",
    "y_pred = knn.predict(X_val, k=1)\n",
    "print(f'k=1 accuracy {np.sum(y_pred==y_val)/y_pred.shape[0]}')\n",
    "y_pred = knn.predict(X_val, k=12)\n",
    "print(f'k=10 accuracy {np.sum(y_pred==y_val)/y_pred.shape[0]}')"
   ]
  },
  {
   "cell_type": "markdown",
   "metadata": {},
   "source": [
    "#### Validate different k values\n",
    "The following graph shows the accuracy level using different k neighbors. Many k-values (2, 7-11, and etc...) seem to give best results."
   ]
  },
  {
   "cell_type": "code",
   "execution_count": 8,
   "metadata": {
    "scrolled": true
   },
   "outputs": [
    {
     "data": {
      "image/png": "[encoded data removed]",
      "text/plain": [
       "<Figure size 432x288 with 1 Axes>"
      ]
     },
     "metadata": {},
     "output_type": "display_data"
    }
   ],
   "source": [
    "val_preds = [np.sum(y_val==knn.predict(X_val, k=k)) / X_val.shape[0] for k in range(1,30)]\n",
    "plt.plot(np.arange(1,30), val_preds);"
   ]
  },
  {
   "cell_type": "markdown",
   "metadata": {},
   "source": [
    "#### Test set"
   ]
  },
  {
   "cell_type": "code",
   "execution_count": null,
   "metadata": {},
   "outputs": [],
   "source": [
    "tst_idx = rnd_idx[1200:]\n",
    "X_tst, y_tst = X[tst_idx], y[tst_idx]\n",
    "tst_pred = knn.predict(X_tst, k=10)"
   ]
  },
  {
   "cell_type": "code",
   "execution_count": 61,
   "metadata": {},
   "outputs": [
    {
     "data": {
      "image/png": "[encoded data removed]",
      "text/plain": [
       "<Figure size 432x288 with 25 Axes>"
      ]
     },
     "metadata": {},
     "output_type": "display_data"
    }
   ],
   "source": [
    "fig, axes = plt.subplots(5, 5)\n",
    "for i, ax in enumerate(axes.flat):\n",
    "    ax.imshow(X_tst[i].reshape(8, 8), cmap='gray')\n",
    "    ax.xaxis.set_visible(False)\n",
    "    ax.yaxis.set_visible(False)"
   ]
  },
  {
   "cell_type": "code",
   "execution_count": 62,
   "metadata": {},
   "outputs": [
    {
     "name": "stdout",
     "output_type": "stream",
     "text": [
      "pred \n",
      " [[0 1 7 9 5]\n",
      " [6 5 4 8 2]\n",
      " [6 9 5 3 9]\n",
      " [0 1 0 7 2]\n",
      " [2 9 2 0 2]]\n",
      "actual \n",
      " [[0 1 7 9 5]\n",
      " [6 5 4 8 2]\n",
      " [6 9 5 3 9]\n",
      " [0 1 0 7 8]\n",
      " [2 9 2 0 2]]\n",
      "\n",
      "k=10 accuracy 0.9698492462311558\n"
     ]
    }
   ],
   "source": [
    "print(f\"pred \\n {tst_pred[:25].reshape(5, 5)}\")\n",
    "print(f\"actual \\n {y_tst[:25].reshape(5, 5)}\\n\")\n",
    "print('k=10 accuracy', np.sum(tst_pred==y_tst)/y_tst.shape[0])"
   ]
  },
  {
   "cell_type": "code",
   "execution_count": null,
   "metadata": {},
   "outputs": [],
   "source": []
  }
 ],
 "metadata": {
  "kernelspec": {
   "display_name": "Python [conda env:ml-with-np]",
   "language": "python",
   "name": "conda-env-ml-with-np-py"
  },
  "language_info": {
   "codemirror_mode": {
    "name": "ipython",
    "version": 3
   },
   "file_extension": ".py",
   "mimetype": "text/x-python",
   "name": "python",
   "nbconvert_exporter": "python",
   "pygments_lexer": "ipython3",
   "version": "3.7.0"
  }
 },
 "nbformat": 4,
 "nbformat_minor": 2
}
